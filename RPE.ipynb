{
  "nbformat": 4,
  "nbformat_minor": 0,
  "metadata": {
    "kernelspec": {
      "display_name": "Python 3",
      "language": "python",
      "name": "python3"
    },
    "language_info": {
      "codemirror_mode": {
        "name": "ipython",
        "version": 3
      },
      "file_extension": ".py",
      "mimetype": "text/x-python",
      "name": "python",
      "nbconvert_exporter": "python",
      "pygments_lexer": "ipython3",
      "version": "3.7.3"
    },
    "colab": {
      "name": "RPE.ipynb",
      "provenance": [],
      "include_colab_link": true
    }
  },
  "cells": [
    {
      "cell_type": "markdown",
      "metadata": {
        "id": "view-in-github",
        "colab_type": "text"
      },
      "source": [
        "<a href=\"https://colab.research.google.com/github/rajuiit/ResearchPaperEvaluationRNN/blob/master/RPE.ipynb\" target=\"_parent\"><img src=\"https://colab.research.google.com/assets/colab-badge.svg\" alt=\"Open In Colab\"/></a>"
      ]
    },
    {
      "cell_type": "code",
      "metadata": {
        "id": "bkPAQ3Tiu8Np",
        "colab_type": "code",
        "colab": {}
      },
      "source": [
        "import numpy as np\n",
        "import pandas as pd\n",
        "import math\n",
        "import sklearn\n",
        "import sklearn.preprocessing\n",
        "import datetime\n",
        "import os\n",
        "import matplotlib.pyplot as plt\n",
        "import tensorflow as tf\n",
        "import math, time\n",
        "from tensorflow.keras.layers import Dense, Dropout, LSTM\n",
        "import matplotlib.pyplot as plt\n",
        "import seaborn as sns\n",
        "from sklearn.model_selection import train_test_split\n",
        "from sklearn.preprocessing import LabelEncoder\n",
        "from keras.models import Model\n",
        "from keras.layers import LSTM, Activation, Dense, Dropout, Input, Embedding\n",
        "from keras.optimizers import RMSprop\n",
        "from keras.preprocessing.text import Tokenizer\n",
        "from keras.preprocessing import sequence\n",
        "from keras.utils import to_categorical\n",
        "from keras.callbacks import EarlyStopping\n",
        "%matplotlib inline"
      ],
      "execution_count": 0,
      "outputs": []
    },
    {
      "cell_type": "code",
      "metadata": {
        "id": "u4f4TOaGu8N7",
        "colab_type": "code",
        "outputId": "715691f1-e4be-4a60-a737-599acc7d92fb",
        "colab": {
          "base_uri": "https://localhost:8080/",
          "height": 34
        }
      },
      "source": [
        "import pandas as pd\n",
        "\n",
        "from google.colab import drive\n",
        "drive.mount('/content/gdrive')\n"
      ],
      "execution_count": 0,
      "outputs": [
        {
          "output_type": "stream",
          "text": [
            "Drive already mounted at /content/gdrive; to attempt to forcibly remount, call drive.mount(\"/content/gdrive\", force_remount=True).\n"
          ],
          "name": "stdout"
        }
      ]
    },
    {
      "cell_type": "code",
      "metadata": {
        "id": "Irzzxy1Zvurr",
        "colab_type": "code",
        "outputId": "862db692-1d2e-407b-b92b-9cac910e7a3a",
        "colab": {
          "base_uri": "https://localhost:8080/",
          "height": 530
        }
      },
      "source": [
        "data = pd.read_csv('gdrive/My Drive/Colab Notebooks/ResearchpaperratingRNN/ResearchPaperEvaluation/data.csv',delimiter=',',encoding='latin-1')\n",
        "data.head()"
      ],
      "execution_count": 0,
      "outputs": [
        {
          "output_type": "execute_result",
          "data": {
            "text/html": [
              "<div>\n",
              "<style scoped>\n",
              "    .dataframe tbody tr th:only-of-type {\n",
              "        vertical-align: middle;\n",
              "    }\n",
              "\n",
              "    .dataframe tbody tr th {\n",
              "        vertical-align: top;\n",
              "    }\n",
              "\n",
              "    .dataframe thead th {\n",
              "        text-align: right;\n",
              "    }\n",
              "</style>\n",
              "<table border=\"1\" class=\"dataframe\">\n",
              "  <thead>\n",
              "    <tr style=\"text-align: right;\">\n",
              "      <th></th>\n",
              "      <th>paperid</th>\n",
              "      <th>reviewerid</th>\n",
              "      <th>completed</th>\n",
              "      <th>total_sum</th>\n",
              "      <th>pccomments</th>\n",
              "      <th>authorcomments</th>\n",
              "      <th>q1</th>\n",
              "      <th>q2</th>\n",
              "      <th>q3</th>\n",
              "      <th>q4</th>\n",
              "      <th>q5</th>\n",
              "      <th>q6</th>\n",
              "      <th>q7</th>\n",
              "      <th>title</th>\n",
              "      <th>keywords</th>\n",
              "      <th>abstract</th>\n",
              "      <th>accept</th>\n",
              "      <th>type_presentation</th>\n",
              "    </tr>\n",
              "  </thead>\n",
              "  <tbody>\n",
              "    <tr>\n",
              "      <th>0</th>\n",
              "      <td>2</td>\n",
              "      <td>8962</td>\n",
              "      <td>F</td>\n",
              "      <td>NaN</td>\n",
              "      <td>NaN</td>\n",
              "      <td>NaN</td>\n",
              "      <td>NaN</td>\n",
              "      <td>NaN</td>\n",
              "      <td>NaN</td>\n",
              "      <td>NaN</td>\n",
              "      <td>NaN</td>\n",
              "      <td>NaN</td>\n",
              "      <td>NaN</td>\n",
              "      <td>Demo Paper</td>\n",
              "      <td>Testing</td>\n",
              "      <td>Will be updated soon!</td>\n",
              "      <td>Reject</td>\n",
              "      <td>NaN</td>\n",
              "    </tr>\n",
              "    <tr>\n",
              "      <th>1</th>\n",
              "      <td>6</td>\n",
              "      <td>8178</td>\n",
              "      <td>T</td>\n",
              "      <td>19.0</td>\n",
              "      <td>&lt;p&gt;Overall, the paper has useful information, ...</td>\n",
              "      <td>&lt;p&gt;The subject paper presents a reduced switch...</td>\n",
              "      <td>4.0</td>\n",
              "      <td>3.0</td>\n",
              "      <td>2.0</td>\n",
              "      <td>2.0</td>\n",
              "      <td>3.0</td>\n",
              "      <td>Oral Presentation</td>\n",
              "      <td>5.0</td>\n",
              "      <td>Performance Evaluation of Reduced Switch Seven...</td>\n",
              "      <td>Multilevel inverter; Total Harmonic Distortion...</td>\n",
              "      <td>With the development of inverter topologies, m...</td>\n",
              "      <td>Reject</td>\n",
              "      <td>NaN</td>\n",
              "    </tr>\n",
              "    <tr>\n",
              "      <th>2</th>\n",
              "      <td>6</td>\n",
              "      <td>9227</td>\n",
              "      <td>F</td>\n",
              "      <td>NaN</td>\n",
              "      <td>NaN</td>\n",
              "      <td>NaN</td>\n",
              "      <td>NaN</td>\n",
              "      <td>NaN</td>\n",
              "      <td>NaN</td>\n",
              "      <td>NaN</td>\n",
              "      <td>NaN</td>\n",
              "      <td>NaN</td>\n",
              "      <td>NaN</td>\n",
              "      <td>Performance Evaluation of Reduced Switch Seven...</td>\n",
              "      <td>Multilevel inverter; Total Harmonic Distortion...</td>\n",
              "      <td>With the development of inverter topologies, m...</td>\n",
              "      <td>Reject</td>\n",
              "      <td>NaN</td>\n",
              "    </tr>\n",
              "    <tr>\n",
              "      <th>3</th>\n",
              "      <td>6</td>\n",
              "      <td>9261</td>\n",
              "      <td>T</td>\n",
              "      <td>18.0</td>\n",
              "      <td>0</td>\n",
              "      <td>&lt;p&gt;May be accepted, but need to improve. What ...</td>\n",
              "      <td>2.0</td>\n",
              "      <td>3.0</td>\n",
              "      <td>3.0</td>\n",
              "      <td>2.0</td>\n",
              "      <td>3.0</td>\n",
              "      <td>Poster Presentation</td>\n",
              "      <td>5.0</td>\n",
              "      <td>Performance Evaluation of Reduced Switch Seven...</td>\n",
              "      <td>Multilevel inverter; Total Harmonic Distortion...</td>\n",
              "      <td>With the development of inverter topologies, m...</td>\n",
              "      <td>Reject</td>\n",
              "      <td>NaN</td>\n",
              "    </tr>\n",
              "    <tr>\n",
              "      <th>4</th>\n",
              "      <td>6</td>\n",
              "      <td>9390</td>\n",
              "      <td>F</td>\n",
              "      <td>NaN</td>\n",
              "      <td>NaN</td>\n",
              "      <td>NaN</td>\n",
              "      <td>NaN</td>\n",
              "      <td>NaN</td>\n",
              "      <td>NaN</td>\n",
              "      <td>NaN</td>\n",
              "      <td>NaN</td>\n",
              "      <td>NaN</td>\n",
              "      <td>NaN</td>\n",
              "      <td>Performance Evaluation of Reduced Switch Seven...</td>\n",
              "      <td>Multilevel inverter; Total Harmonic Distortion...</td>\n",
              "      <td>With the development of inverter topologies, m...</td>\n",
              "      <td>Reject</td>\n",
              "      <td>NaN</td>\n",
              "    </tr>\n",
              "  </tbody>\n",
              "</table>\n",
              "</div>"
            ],
            "text/plain": [
              "   paperid  reviewerid  ...  accept  type_presentation\n",
              "0        2        8962  ...  Reject                NaN\n",
              "1        6        8178  ...  Reject                NaN\n",
              "2        6        9227  ...  Reject                NaN\n",
              "3        6        9261  ...  Reject                NaN\n",
              "4        6        9390  ...  Reject                NaN\n",
              "\n",
              "[5 rows x 18 columns]"
            ]
          },
          "metadata": {
            "tags": []
          },
          "execution_count": 43
        }
      ]
    },
    {
      "cell_type": "code",
      "metadata": {
        "id": "HlQ97IDwu8OD",
        "colab_type": "code",
        "colab": {}
      },
      "source": [
        "dataset = data[['reviewerid','authorcomments', 'total_sum', 'title', 'keywords', 'abstract', 'accept']]"
      ],
      "execution_count": 0,
      "outputs": []
    },
    {
      "cell_type": "code",
      "metadata": {
        "id": "j3Hytz5Cu8OQ",
        "colab_type": "code",
        "outputId": "9b842842-6ca4-48a0-a343-2bec7832c740",
        "colab": {
          "base_uri": "https://localhost:8080/",
          "height": 176
        }
      },
      "source": [
        "dataset.head(3)"
      ],
      "execution_count": 0,
      "outputs": [
        {
          "output_type": "execute_result",
          "data": {
            "text/html": [
              "<div>\n",
              "<style scoped>\n",
              "    .dataframe tbody tr th:only-of-type {\n",
              "        vertical-align: middle;\n",
              "    }\n",
              "\n",
              "    .dataframe tbody tr th {\n",
              "        vertical-align: top;\n",
              "    }\n",
              "\n",
              "    .dataframe thead th {\n",
              "        text-align: right;\n",
              "    }\n",
              "</style>\n",
              "<table border=\"1\" class=\"dataframe\">\n",
              "  <thead>\n",
              "    <tr style=\"text-align: right;\">\n",
              "      <th></th>\n",
              "      <th>reviewerid</th>\n",
              "      <th>authorcomments</th>\n",
              "      <th>total_sum</th>\n",
              "      <th>title</th>\n",
              "      <th>keywords</th>\n",
              "      <th>abstract</th>\n",
              "      <th>accept</th>\n",
              "    </tr>\n",
              "  </thead>\n",
              "  <tbody>\n",
              "    <tr>\n",
              "      <th>0</th>\n",
              "      <td>8962</td>\n",
              "      <td>NaN</td>\n",
              "      <td>NaN</td>\n",
              "      <td>Demo Paper</td>\n",
              "      <td>Testing</td>\n",
              "      <td>Will be updated soon!</td>\n",
              "      <td>Reject</td>\n",
              "    </tr>\n",
              "    <tr>\n",
              "      <th>1</th>\n",
              "      <td>8178</td>\n",
              "      <td>&lt;p&gt;The subject paper presents a reduced switch...</td>\n",
              "      <td>19.0</td>\n",
              "      <td>Performance Evaluation of Reduced Switch Seven...</td>\n",
              "      <td>Multilevel inverter; Total Harmonic Distortion...</td>\n",
              "      <td>With the development of inverter topologies, m...</td>\n",
              "      <td>Reject</td>\n",
              "    </tr>\n",
              "    <tr>\n",
              "      <th>2</th>\n",
              "      <td>9227</td>\n",
              "      <td>NaN</td>\n",
              "      <td>NaN</td>\n",
              "      <td>Performance Evaluation of Reduced Switch Seven...</td>\n",
              "      <td>Multilevel inverter; Total Harmonic Distortion...</td>\n",
              "      <td>With the development of inverter topologies, m...</td>\n",
              "      <td>Reject</td>\n",
              "    </tr>\n",
              "  </tbody>\n",
              "</table>\n",
              "</div>"
            ],
            "text/plain": [
              "   reviewerid  ...  accept\n",
              "0        8962  ...  Reject\n",
              "1        8178  ...  Reject\n",
              "2        9227  ...  Reject\n",
              "\n",
              "[3 rows x 7 columns]"
            ]
          },
          "metadata": {
            "tags": []
          },
          "execution_count": 45
        }
      ]
    },
    {
      "cell_type": "code",
      "metadata": {
        "id": "tYhWF4ueu8OX",
        "colab_type": "code",
        "colab": {}
      },
      "source": [
        "df = dataset"
      ],
      "execution_count": 0,
      "outputs": []
    },
    {
      "cell_type": "code",
      "metadata": {
        "id": "sEbgiq6ru8Oe",
        "colab_type": "code",
        "colab": {}
      },
      "source": [
        "dataset = dataset.dropna()"
      ],
      "execution_count": 0,
      "outputs": []
    },
    {
      "cell_type": "code",
      "metadata": {
        "id": "4M428b6Tu8Ol",
        "colab_type": "code",
        "outputId": "42be7539-9c1e-43a7-f262-2df010104937",
        "colab": {
          "base_uri": "https://localhost:8080/",
          "height": 289
        }
      },
      "source": [
        "dataset.head()"
      ],
      "execution_count": 0,
      "outputs": [
        {
          "output_type": "execute_result",
          "data": {
            "text/html": [
              "<div>\n",
              "<style scoped>\n",
              "    .dataframe tbody tr th:only-of-type {\n",
              "        vertical-align: middle;\n",
              "    }\n",
              "\n",
              "    .dataframe tbody tr th {\n",
              "        vertical-align: top;\n",
              "    }\n",
              "\n",
              "    .dataframe thead th {\n",
              "        text-align: right;\n",
              "    }\n",
              "</style>\n",
              "<table border=\"1\" class=\"dataframe\">\n",
              "  <thead>\n",
              "    <tr style=\"text-align: right;\">\n",
              "      <th></th>\n",
              "      <th>reviewerid</th>\n",
              "      <th>authorcomments</th>\n",
              "      <th>total_sum</th>\n",
              "      <th>title</th>\n",
              "      <th>keywords</th>\n",
              "      <th>abstract</th>\n",
              "      <th>accept</th>\n",
              "    </tr>\n",
              "  </thead>\n",
              "  <tbody>\n",
              "    <tr>\n",
              "      <th>1</th>\n",
              "      <td>8178</td>\n",
              "      <td>&lt;p&gt;The subject paper presents a reduced switch...</td>\n",
              "      <td>19.0</td>\n",
              "      <td>Performance Evaluation of Reduced Switch Seven...</td>\n",
              "      <td>Multilevel inverter; Total Harmonic Distortion...</td>\n",
              "      <td>With the development of inverter topologies, m...</td>\n",
              "      <td>Reject</td>\n",
              "    </tr>\n",
              "    <tr>\n",
              "      <th>3</th>\n",
              "      <td>9261</td>\n",
              "      <td>&lt;p&gt;May be accepted, but need to improve. What ...</td>\n",
              "      <td>18.0</td>\n",
              "      <td>Performance Evaluation of Reduced Switch Seven...</td>\n",
              "      <td>Multilevel inverter; Total Harmonic Distortion...</td>\n",
              "      <td>With the development of inverter topologies, m...</td>\n",
              "      <td>Reject</td>\n",
              "    </tr>\n",
              "    <tr>\n",
              "      <th>7</th>\n",
              "      <td>9027</td>\n",
              "      <td>&lt;p&gt;Please edit the following errors:&lt;br /&gt;&lt;br ...</td>\n",
              "      <td>23.0</td>\n",
              "      <td>GSM Based Low-cost Gas Leakage, Explosion and ...</td>\n",
              "      <td>Arduino UNO, MQ-9, Low-cost, Explosion, Securi...</td>\n",
              "      <td>Gas leakage and gas cylinder explosion is a re...</td>\n",
              "      <td>Accept</td>\n",
              "    </tr>\n",
              "    <tr>\n",
              "      <th>8</th>\n",
              "      <td>9464</td>\n",
              "      <td>&lt;ol&gt;\\n&lt;li&gt;There is no previous work section.&lt;/...</td>\n",
              "      <td>20.0</td>\n",
              "      <td>GSM Based Low-cost Gas Leakage, Explosion and ...</td>\n",
              "      <td>Arduino UNO, MQ-9, Low-cost, Explosion, Securi...</td>\n",
              "      <td>Gas leakage and gas cylinder explosion is a re...</td>\n",
              "      <td>Accept</td>\n",
              "    </tr>\n",
              "    <tr>\n",
              "      <th>9</th>\n",
              "      <td>8967</td>\n",
              "      <td>&lt;p&gt;The paper present multi-view 3D object is r...</td>\n",
              "      <td>23.0</td>\n",
              "      <td>Multi-View 3D Object Retrieval using Autoencod...</td>\n",
              "      <td>Convolutional Neural Network, Deep Embedding N...</td>\n",
              "      <td>Due to the rapid development of 3D object, the...</td>\n",
              "      <td>Accept</td>\n",
              "    </tr>\n",
              "  </tbody>\n",
              "</table>\n",
              "</div>"
            ],
            "text/plain": [
              "   reviewerid  ...  accept\n",
              "1        8178  ...  Reject\n",
              "3        9261  ...  Reject\n",
              "7        9027  ...  Accept\n",
              "8        9464  ...  Accept\n",
              "9        8967  ...  Accept\n",
              "\n",
              "[5 rows x 7 columns]"
            ]
          },
          "metadata": {
            "tags": []
          },
          "execution_count": 48
        }
      ]
    },
    {
      "cell_type": "code",
      "metadata": {
        "id": "dDlfnaiOu8Os",
        "colab_type": "code",
        "colab": {}
      },
      "source": [
        "import warnings\n",
        "warnings.filterwarnings(\"ignore\")"
      ],
      "execution_count": 0,
      "outputs": []
    },
    {
      "cell_type": "code",
      "metadata": {
        "id": "A_4u9Fufu8O0",
        "colab_type": "code",
        "colab": {}
      },
      "source": [
        "dataset['authorcomments'] = dataset['authorcomments'].str.strip()\n",
        "dataset['title'] = dataset['title'].str.strip()\n",
        "dataset['keywords'] = dataset['keywords'].str.strip()\n",
        "dataset['abstract'] = dataset['abstract'].str.strip()\n",
        "dataset['accept'] = dataset['accept'].str.strip()"
      ],
      "execution_count": 0,
      "outputs": []
    },
    {
      "cell_type": "code",
      "metadata": {
        "id": "9Q8DmqdHu8O6",
        "colab_type": "code",
        "colab": {}
      },
      "source": [
        "import bs4\n",
        "dataset['authorcomments'] = dataset['authorcomments'].apply(lambda x: bs4.BeautifulSoup(x, 'lxml').get_text())\n",
        "dataset['accept'] = dataset['accept'].map({'Reject':0, 'Accept':1})\n",
        "dataset = dataset.dropna()\n",
        "dataset['accept'] = dataset['accept'].astype(int)"
      ],
      "execution_count": 0,
      "outputs": []
    },
    {
      "cell_type": "code",
      "metadata": {
        "id": "tQUHQtvKu8PB",
        "colab_type": "code",
        "outputId": "adc46a38-68e6-4cf7-c65d-95d6fa7a34eb",
        "colab": {
          "base_uri": "https://localhost:8080/",
          "height": 193
        }
      },
      "source": [
        "dataset.head(3)"
      ],
      "execution_count": 0,
      "outputs": [
        {
          "output_type": "execute_result",
          "data": {
            "text/html": [
              "<div>\n",
              "<style scoped>\n",
              "    .dataframe tbody tr th:only-of-type {\n",
              "        vertical-align: middle;\n",
              "    }\n",
              "\n",
              "    .dataframe tbody tr th {\n",
              "        vertical-align: top;\n",
              "    }\n",
              "\n",
              "    .dataframe thead th {\n",
              "        text-align: right;\n",
              "    }\n",
              "</style>\n",
              "<table border=\"1\" class=\"dataframe\">\n",
              "  <thead>\n",
              "    <tr style=\"text-align: right;\">\n",
              "      <th></th>\n",
              "      <th>reviewerid</th>\n",
              "      <th>authorcomments</th>\n",
              "      <th>total_sum</th>\n",
              "      <th>title</th>\n",
              "      <th>keywords</th>\n",
              "      <th>abstract</th>\n",
              "      <th>accept</th>\n",
              "    </tr>\n",
              "  </thead>\n",
              "  <tbody>\n",
              "    <tr>\n",
              "      <th>1</th>\n",
              "      <td>8178</td>\n",
              "      <td>The subject paper presents a reduced switch se...</td>\n",
              "      <td>19.0</td>\n",
              "      <td>Performance Evaluation of Reduced Switch Seven...</td>\n",
              "      <td>Multilevel inverter; Total Harmonic Distortion...</td>\n",
              "      <td>With the development of inverter topologies, m...</td>\n",
              "      <td>0</td>\n",
              "    </tr>\n",
              "    <tr>\n",
              "      <th>3</th>\n",
              "      <td>9261</td>\n",
              "      <td>May be accepted, but need to improve. What are...</td>\n",
              "      <td>18.0</td>\n",
              "      <td>Performance Evaluation of Reduced Switch Seven...</td>\n",
              "      <td>Multilevel inverter; Total Harmonic Distortion...</td>\n",
              "      <td>With the development of inverter topologies, m...</td>\n",
              "      <td>0</td>\n",
              "    </tr>\n",
              "    <tr>\n",
              "      <th>7</th>\n",
              "      <td>9027</td>\n",
              "      <td>Please edit the following errors:# Spelling Er...</td>\n",
              "      <td>23.0</td>\n",
              "      <td>GSM Based Low-cost Gas Leakage, Explosion and ...</td>\n",
              "      <td>Arduino UNO, MQ-9, Low-cost, Explosion, Securi...</td>\n",
              "      <td>Gas leakage and gas cylinder explosion is a re...</td>\n",
              "      <td>1</td>\n",
              "    </tr>\n",
              "  </tbody>\n",
              "</table>\n",
              "</div>"
            ],
            "text/plain": [
              "   reviewerid  ... accept\n",
              "1        8178  ...      0\n",
              "3        9261  ...      0\n",
              "7        9027  ...      1\n",
              "\n",
              "[3 rows x 7 columns]"
            ]
          },
          "metadata": {
            "tags": []
          },
          "execution_count": 52
        }
      ]
    },
    {
      "cell_type": "code",
      "metadata": {
        "id": "CbKVvyivu8PI",
        "colab_type": "code",
        "colab": {}
      },
      "source": [
        "dataset.to_csv(r'clean.csv')"
      ],
      "execution_count": 0,
      "outputs": []
    },
    {
      "cell_type": "code",
      "metadata": {
        "id": "-0ZlkdU9u8PO",
        "colab_type": "code",
        "colab": {}
      },
      "source": [
        "df.drop(['reviewerid', 'total_sum'],axis=1,inplace=True)"
      ],
      "execution_count": 0,
      "outputs": []
    },
    {
      "cell_type": "code",
      "metadata": {
        "id": "yh9UNpYUu8PV",
        "colab_type": "code",
        "outputId": "10712ca5-3e48-475b-9187-1fdf1c7bfcc7",
        "colab": {
          "base_uri": "https://localhost:8080/",
          "height": 187
        }
      },
      "source": [
        "df.info()"
      ],
      "execution_count": 0,
      "outputs": [
        {
          "output_type": "stream",
          "text": [
            "<class 'pandas.core.frame.DataFrame'>\n",
            "RangeIndex: 2734 entries, 0 to 2733\n",
            "Data columns (total 5 columns):\n",
            "authorcomments    1849 non-null object\n",
            "title             2734 non-null object\n",
            "keywords          2734 non-null object\n",
            "abstract          2734 non-null object\n",
            "accept            2734 non-null object\n",
            "dtypes: object(5)\n",
            "memory usage: 106.9+ KB\n"
          ],
          "name": "stdout"
        }
      ]
    },
    {
      "cell_type": "code",
      "metadata": {
        "id": "rGzXmg2Pu8Pd",
        "colab_type": "code",
        "outputId": "7bb117ea-f70a-462e-de68-ea82700686a6",
        "colab": {
          "base_uri": "https://localhost:8080/",
          "height": 296
        }
      },
      "source": [
        "sns.countplot(df.accept)"
      ],
      "execution_count": 0,
      "outputs": [
        {
          "output_type": "execute_result",
          "data": {
            "text/plain": [
              "<matplotlib.axes._subplots.AxesSubplot at 0x7f7d0b5ff048>"
            ]
          },
          "metadata": {
            "tags": []
          },
          "execution_count": 56
        },
        {
          "output_type": "display_data",
          "data": {
            "image/png": "[encoded data removed]",
            "text/plain": [
              "<Figure size 432x288 with 1 Axes>"
            ]
          },
          "metadata": {
            "tags": []
          }
        }
      ]
    },
    {
      "cell_type": "code",
      "metadata": {
        "id": "FS8tsmwNu8Pl",
        "colab_type": "code",
        "colab": {}
      },
      "source": [
        "df = df[['abstract', 'accept']]"
      ],
      "execution_count": 0,
      "outputs": []
    },
    {
      "cell_type": "code",
      "metadata": {
        "id": "ikgeXmCXu8Pt",
        "colab_type": "code",
        "colab": {}
      },
      "source": [
        "df.dropna(inplace=True)"
      ],
      "execution_count": 0,
      "outputs": []
    },
    {
      "cell_type": "code",
      "metadata": {
        "id": "XjF34BSBu8P0",
        "colab_type": "code",
        "colab": {}
      },
      "source": [
        "df['accept'] = df['accept'].map({'Reject':0, 'Accept':1})\n",
        "df = df.dropna()\n",
        "df['accept'] = df['accept'].astype(int)"
      ],
      "execution_count": 0,
      "outputs": []
    },
    {
      "cell_type": "code",
      "metadata": {
        "id": "9eQp5uGKu8P6",
        "colab_type": "code",
        "colab": {}
      },
      "source": [
        "X = df.abstract\n",
        "#[['authorcomments', 'title', 'keywords', 'abstract']]"
      ],
      "execution_count": 0,
      "outputs": []
    },
    {
      "cell_type": "code",
      "metadata": {
        "id": "KLUiEK7Uu8QA",
        "colab_type": "code",
        "colab": {}
      },
      "source": [
        "Y = df.accept"
      ],
      "execution_count": 0,
      "outputs": []
    },
    {
      "cell_type": "code",
      "metadata": {
        "id": "Hnq4ikilu8QP",
        "colab_type": "code",
        "colab": {}
      },
      "source": [
        "x_train, x_test, y_train, y_test = train_test_split(X,Y,test_size=0.15)"
      ],
      "execution_count": 0,
      "outputs": []
    },
    {
      "cell_type": "code",
      "metadata": {
        "id": "T8P1TXueu8QX",
        "colab_type": "code",
        "colab": {}
      },
      "source": [
        "max_words = 1000\n",
        "max_len = 150\n",
        "tok = Tokenizer(num_words=max_words)\n",
        "tok.fit_on_texts(x_train)\n",
        "sequences = tok.texts_to_sequences(x_train)\n",
        "sequences_matrix = sequence.pad_sequences(sequences,maxlen=max_len)"
      ],
      "execution_count": 0,
      "outputs": []
    },
    {
      "cell_type": "code",
      "metadata": {
        "id": "ErYImOZ6u8Qf",
        "colab_type": "code",
        "colab": {}
      },
      "source": [
        "def RNN():\n",
        "    inputs = Input(name='inputs',shape=[max_len])\n",
        "    layer = Embedding(max_words,50,input_length=max_len)(inputs)\n",
        "    layer = LSTM(64)(layer)\n",
        "    layer = Dense(256,name='FC1')(layer)\n",
        "    layer = Activation('relu')(layer)\n",
        "    layer = Dropout(0.5)(layer)\n",
        "    layer = Dense(1,name='out_layer')(layer)\n",
        "    layer = Activation('sigmoid')(layer)\n",
        "    model = Model(inputs=inputs,outputs=layer)\n",
        "    return model"
      ],
      "execution_count": 0,
      "outputs": []
    },
    {
      "cell_type": "code",
      "metadata": {
        "id": "KXIWRvAru8Qj",
        "colab_type": "code",
        "outputId": "c42e2115-b11d-4924-8e55-7d2eec0f2ddd",
        "colab": {
          "base_uri": "https://localhost:8080/",
          "height": 425
        }
      },
      "source": [
        "model = RNN()\n",
        "model.summary()\n",
        "model.compile(loss='binary_crossentropy',optimizer=RMSprop(),metrics=['accuracy'])"
      ],
      "execution_count": 0,
      "outputs": [
        {
          "output_type": "stream",
          "text": [
            "Model: \"model_2\"\n",
            "_________________________________________________________________\n",
            "Layer (type)                 Output Shape              Param #   \n",
            "=================================================================\n",
            "inputs (InputLayer)          (None, 150)               0         \n",
            "_________________________________________________________________\n",
            "embedding_2 (Embedding)      (None, 150, 50)           50000     \n",
            "_________________________________________________________________\n",
            "lstm_2 (LSTM)                (None, 64)                29440     \n",
            "_________________________________________________________________\n",
            "FC1 (Dense)                  (None, 256)               16640     \n",
            "_________________________________________________________________\n",
            "activation_3 (Activation)    (None, 256)               0         \n",
            "_________________________________________________________________\n",
            "dropout_2 (Dropout)          (None, 256)               0         \n",
            "_________________________________________________________________\n",
            "out_layer (Dense)            (None, 1)                 257       \n",
            "_________________________________________________________________\n",
            "activation_4 (Activation)    (None, 1)                 0         \n",
            "=================================================================\n",
            "Total params: 96,337\n",
            "Trainable params: 96,337\n",
            "Non-trainable params: 0\n",
            "_________________________________________________________________\n"
          ],
          "name": "stdout"
        }
      ]
    },
    {
      "cell_type": "code",
      "metadata": {
        "id": "lbfY8G6Bu8Qs",
        "colab_type": "code",
        "outputId": "602639ab-ab43-47c5-b154-2ca50a70ce25",
        "colab": {
          "base_uri": "https://localhost:8080/",
          "height": 51
        }
      },
      "source": [
        "print(X.shape)\n",
        "print(Y.shape)"
      ],
      "execution_count": 0,
      "outputs": [
        {
          "output_type": "stream",
          "text": [
            "(2727,)\n",
            "(2727,)\n"
          ],
          "name": "stdout"
        }
      ]
    },
    {
      "cell_type": "code",
      "metadata": {
        "id": "Akf9ML1Nu8Q0",
        "colab_type": "code",
        "outputId": "fe903816-d3f1-4c17-9e28-8663261cf49e",
        "colab": {
          "base_uri": "https://localhost:8080/",
          "height": 884
        }
      },
      "source": [
        "history = model.fit(sequences_matrix,y_train,batch_size=50,epochs=25,\n",
        "          validation_split=0.2)"
      ],
      "execution_count": 0,
      "outputs": [
        {
          "output_type": "stream",
          "text": [
            "Train on 1853 samples, validate on 464 samples\n",
            "Epoch 1/25\n",
            "1853/1853 [==============================] - 8s 4ms/step - loss: 0.6356 - acc: 0.6427 - val_loss: 0.9721 - val_acc: 0.6940\n",
            "Epoch 2/25\n",
            "1853/1853 [==============================] - 6s 3ms/step - loss: 0.4608 - acc: 0.8057 - val_loss: 0.4518 - val_acc: 0.7953\n",
            "Epoch 3/25\n",
            "1853/1853 [==============================] - 7s 4ms/step - loss: 0.2867 - acc: 0.8894 - val_loss: 1.0100 - val_acc: 0.7392\n",
            "Epoch 4/25\n",
            "1853/1853 [==============================] - 6s 3ms/step - loss: 0.2188 - acc: 0.9261 - val_loss: 0.3762 - val_acc: 0.8341\n",
            "Epoch 5/25\n",
            "1853/1853 [==============================] - 7s 4ms/step - loss: 0.1611 - acc: 0.9498 - val_loss: 0.3991 - val_acc: 0.8772\n",
            "Epoch 6/25\n",
            "1853/1853 [==============================] - 6s 3ms/step - loss: 0.1033 - acc: 0.9692 - val_loss: 0.3040 - val_acc: 0.9159\n",
            "Epoch 7/25\n",
            "1853/1853 [==============================] - 6s 3ms/step - loss: 0.0840 - acc: 0.9730 - val_loss: 0.2988 - val_acc: 0.9030\n",
            "Epoch 8/25\n",
            "1853/1853 [==============================] - 7s 4ms/step - loss: 0.0697 - acc: 0.9763 - val_loss: 0.2587 - val_acc: 0.9397\n",
            "Epoch 9/25\n",
            "1853/1853 [==============================] - 7s 4ms/step - loss: 0.0480 - acc: 0.9849 - val_loss: 0.2460 - val_acc: 0.9461\n",
            "Epoch 10/25\n",
            "1853/1853 [==============================] - 6s 3ms/step - loss: 0.0348 - acc: 0.9887 - val_loss: 0.4058 - val_acc: 0.8944\n",
            "Epoch 11/25\n",
            "1853/1853 [==============================] - 6s 3ms/step - loss: 0.0259 - acc: 0.9914 - val_loss: 0.2792 - val_acc: 0.9440\n",
            "Epoch 12/25\n",
            "1853/1853 [==============================] - 6s 3ms/step - loss: 0.0228 - acc: 0.9908 - val_loss: 0.3153 - val_acc: 0.9440\n",
            "Epoch 13/25\n",
            "1853/1853 [==============================] - 6s 3ms/step - loss: 0.0131 - acc: 0.9978 - val_loss: 0.4039 - val_acc: 0.9332\n",
            "Epoch 14/25\n",
            "1853/1853 [==============================] - 6s 3ms/step - loss: 0.0889 - acc: 0.9854 - val_loss: 0.3791 - val_acc: 0.9332\n",
            "Epoch 15/25\n",
            "1853/1853 [==============================] - 6s 3ms/step - loss: 0.0088 - acc: 0.9978 - val_loss: 0.5126 - val_acc: 0.9289\n",
            "Epoch 16/25\n",
            "1853/1853 [==============================] - 6s 3ms/step - loss: 0.0158 - acc: 0.9957 - val_loss: 0.4339 - val_acc: 0.9440\n",
            "Epoch 17/25\n",
            "1853/1853 [==============================] - 6s 3ms/step - loss: 0.0167 - acc: 0.9957 - val_loss: 0.5056 - val_acc: 0.9332\n",
            "Epoch 18/25\n",
            "1853/1853 [==============================] - 6s 3ms/step - loss: 0.0566 - acc: 0.9908 - val_loss: 0.4879 - val_acc: 0.9246\n",
            "Epoch 19/25\n",
            "1853/1853 [==============================] - 6s 3ms/step - loss: 0.0047 - acc: 0.9989 - val_loss: 0.5336 - val_acc: 0.9310\n",
            "Epoch 20/25\n",
            "1853/1853 [==============================] - 6s 3ms/step - loss: 0.0135 - acc: 0.9968 - val_loss: 0.5075 - val_acc: 0.9289\n",
            "Epoch 21/25\n",
            "1853/1853 [==============================] - 7s 4ms/step - loss: 0.0118 - acc: 0.9957 - val_loss: 0.5134 - val_acc: 0.9332\n",
            "Epoch 22/25\n",
            "1853/1853 [==============================] - 6s 3ms/step - loss: 0.0259 - acc: 0.9930 - val_loss: 0.5761 - val_acc: 0.9375\n",
            "Epoch 23/25\n",
            "1853/1853 [==============================] - 6s 4ms/step - loss: 0.0079 - acc: 0.9973 - val_loss: 0.5513 - val_acc: 0.9375\n",
            "Epoch 24/25\n",
            "1853/1853 [==============================] - 6s 3ms/step - loss: 0.0115 - acc: 0.9978 - val_loss: 0.5412 - val_acc: 0.9375\n",
            "Epoch 25/25\n",
            "1853/1853 [==============================] - 7s 4ms/step - loss: 0.0105 - acc: 0.9962 - val_loss: 0.5077 - val_acc: 0.9375\n"
          ],
          "name": "stdout"
        }
      ]
    },
    {
      "cell_type": "code",
      "metadata": {
        "id": "6AU6a2aKu8Q9",
        "colab_type": "code",
        "colab": {}
      },
      "source": [
        "test_sequences = tok.texts_to_sequences(x_test)\n",
        "test_sequences_matrix = sequence.pad_sequences(test_sequences,maxlen=max_len)"
      ],
      "execution_count": 0,
      "outputs": []
    },
    {
      "cell_type": "code",
      "metadata": {
        "id": "GMArueIju8RE",
        "colab_type": "code",
        "outputId": "b7bb9790-501b-4c4a-a2b8-997204ac09e3",
        "colab": {
          "base_uri": "https://localhost:8080/",
          "height": 34
        }
      },
      "source": [
        "accr = model.evaluate(test_sequences_matrix,y_test)"
      ],
      "execution_count": 0,
      "outputs": [
        {
          "output_type": "stream",
          "text": [
            "410/410 [==============================] - 0s 759us/step\n"
          ],
          "name": "stdout"
        }
      ]
    },
    {
      "cell_type": "code",
      "metadata": {
        "id": "LdvWkoUQu8RL",
        "colab_type": "code",
        "outputId": "247f12f1-414b-46d9-bb8a-733abc96ab35",
        "colab": {
          "base_uri": "https://localhost:8080/",
          "height": 68
        }
      },
      "source": [
        "print('Test set\\n  Loss: {:0.3f}\\n  Accuracy: {:0.3f}'.format(accr[0],accr[1]))"
      ],
      "execution_count": 0,
      "outputs": [
        {
          "output_type": "stream",
          "text": [
            "Test set\n",
            "  Loss: 0.624\n",
            "  Accuracy: 0.937\n"
          ],
          "name": "stdout"
        }
      ]
    },
    {
      "cell_type": "code",
      "metadata": {
        "id": "fJCsixIHu8RS",
        "colab_type": "code",
        "outputId": "af3b92a0-ea6b-424d-b495-a87b356cbd69",
        "colab": {
          "base_uri": "https://localhost:8080/",
          "height": 34
        }
      },
      "source": [
        "history_dict = history.history\n",
        "history_dict.keys()"
      ],
      "execution_count": 0,
      "outputs": [
        {
          "output_type": "execute_result",
          "data": {
            "text/plain": [
              "dict_keys(['val_loss', 'val_acc', 'loss', 'acc'])"
            ]
          },
          "metadata": {
            "tags": []
          },
          "execution_count": 71
        }
      ]
    },
    {
      "cell_type": "code",
      "metadata": {
        "id": "GLbC91hzu8SG",
        "colab_type": "code",
        "outputId": "5f76c870-743c-4f5b-d189-6b8503562c41",
        "colab": {
          "base_uri": "https://localhost:8080/",
          "height": 295
        }
      },
      "source": [
        "plt.clf()\n",
        "acc = history.history['acc']\n",
        "val_acc = history.history['val_acc']\n",
        "plt.plot(acc, 'bo', label='Training acc')\n",
        "plt.plot(val_acc, 'b', label='Validation acc')\n",
        "plt.title('Training and validation accuracy')\n",
        "plt.xlabel('Epochs')\n",
        "plt.ylabel('Accuracy')\n",
        "plt.legend()\n",
        "plt.show()"
      ],
      "execution_count": 0,
      "outputs": [
        {
          "output_type": "display_data",
          "data": {
            "image/png": "[encoded data removed]",
            "text/plain": [
              "<Figure size 432x288 with 1 Axes>"
            ]
          },
          "metadata": {
            "tags": []
          }
        }
      ]
    },
    {
      "cell_type": "code",
      "metadata": {
        "id": "s7UVbowmu8Sl",
        "colab_type": "code",
        "colab": {}
      },
      "source": [
        "from sklearn.model_selection import train_test_split\n",
        "from sklearn.ensemble import RandomForestClassifier\n",
        "from sklearn.metrics import accuracy_score\n",
        "from sklearn.metrics import confusion_matrix"
      ],
      "execution_count": 0,
      "outputs": []
    },
    {
      "cell_type": "code",
      "metadata": {
        "id": "2Yjmrfk0u8TV",
        "colab_type": "code",
        "colab": {}
      },
      "source": [
        "from sklearn.svm import SVC\n",
        "svclassifier = SVC(kernel='linear')\n",
        "svclassifier.fit(sequences_matrix, y_train)"
      ],
      "execution_count": 0,
      "outputs": []
    },
    {
      "cell_type": "code",
      "metadata": {
        "id": "ZnYjm_5Bu8Tc",
        "colab_type": "code",
        "colab": {}
      },
      "source": [
        "y_pred = svclassifier.predict(test_sequences_matrix)"
      ],
      "execution_count": 0,
      "outputs": []
    },
    {
      "cell_type": "code",
      "metadata": {
        "id": "RMBEEfOCu8Tm",
        "colab_type": "code",
        "colab": {}
      },
      "source": [
        "from sklearn.metrics import classification_report, confusion_matrix\n",
        "print(confusion_matrix(y_test,y_pred))"
      ],
      "execution_count": 0,
      "outputs": []
    },
    {
      "cell_type": "code",
      "metadata": {
        "id": "e_uajtfRu8T0",
        "colab_type": "code",
        "colab": {}
      },
      "source": [
        "print(classification_report(y_test,y_pred))"
      ],
      "execution_count": 0,
      "outputs": []
    },
    {
      "cell_type": "code",
      "metadata": {
        "id": "KT44VgJGxlQR",
        "colab_type": "code",
        "colab": {}
      },
      "source": [
        "\n",
        "from keras.models import Sequential\n",
        "from keras.layers import Dense\n",
        "from keras.layers import LSTM\n",
        "from keras.layers.convolutional import Conv1D\n",
        "from keras.layers.convolutional import MaxPooling1D\n",
        "from keras.layers.embeddings import Embedding\n",
        "from keras.preprocessing import sequence\n",
        "import numpy as np\n",
        "import pandas as pd\n",
        "import math\n",
        "import sklearn\n",
        "import sklearn.preprocessing\n",
        "import datetime\n",
        "import os\n",
        "import matplotlib.pyplot as plt\n",
        "import tensorflow as tf\n",
        "import math, time\n",
        "from tensorflow.keras.layers import Dense, Dropout, LSTM\n",
        "import matplotlib.pyplot as plt\n",
        "import seaborn as sns\n",
        "from sklearn.model_selection import train_test_split\n",
        "from sklearn.preprocessing import LabelEncoder\n",
        "from keras.models import Model\n",
        "from keras.layers import LSTM, Activation, Dense, Dropout, Input, Embedding\n",
        "from keras.optimizers import RMSprop\n",
        "from keras.preprocessing.text import Tokenizer\n",
        "from keras.preprocessing import sequence\n",
        "from keras.utils import to_categorical\n",
        "from keras.callbacks import EarlyStopping\n"
      ],
      "execution_count": 0,
      "outputs": []
    },
    {
      "cell_type": "code",
      "metadata": {
        "id": "srNgBT2244NT",
        "colab_type": "code",
        "colab": {}
      },
      "source": [
        "max_words = 1000\n",
        "max_len = 150\n",
        "tok = Tokenizer(num_words=max_words)\n",
        "tok.fit_on_texts(x_train)\n",
        "sequences = tok.texts_to_sequences(x_train)\n",
        "sequences_matrix = sequence.pad_sequences(sequences,maxlen=max_len)\n",
        "embedding_vecor_length = 50\n"
      ],
      "execution_count": 0,
      "outputs": []
    },
    {
      "cell_type": "code",
      "metadata": {
        "id": "KfopkmGXxdoj",
        "colab_type": "code",
        "colab": {}
      },
      "source": [
        "def CNN():\n",
        "      embedding_vecor_length = 32\n",
        "      inputs= Input(name='inputs',shape=[max_len])\n",
        "      layer=Embedding(max_words, embedding_vecor_length, input_length=max_len)(inputs)\n",
        "      layer=Conv1D(filters=32, kernel_size=3, padding='same', activation='relu')(layer)\n",
        "      layer=MaxPooling1D(pool_size=2)(layer)\n",
        "      layer= LSTM(100)(layer)\n",
        "      layer= Dense(1, activation='sigmoid')(layer)\n",
        "      model = Model(inputs=inputs,outputs=layer)\n",
        "      return model\n"
      ],
      "execution_count": 0,
      "outputs": []
    },
    {
      "cell_type": "code",
      "metadata": {
        "id": "2zMmXTRF5jeN",
        "colab_type": "code",
        "outputId": "fe47d5b7-b00a-481e-fec1-b3b3f7813766",
        "colab": {
          "base_uri": "https://localhost:8080/",
          "height": 357
        }
      },
      "source": [
        "model = CNN()\n",
        "model.summary()\n",
        "model.compile(loss='binary_crossentropy', optimizer='adam', metrics=['accuracy'])"
      ],
      "execution_count": 0,
      "outputs": [
        {
          "output_type": "stream",
          "text": [
            "Model: \"model_4\"\n",
            "_________________________________________________________________\n",
            "Layer (type)                 Output Shape              Param #   \n",
            "=================================================================\n",
            "inputs (InputLayer)          (None, 150)               0         \n",
            "_________________________________________________________________\n",
            "embedding_8 (Embedding)      (None, 150, 32)           32000     \n",
            "_________________________________________________________________\n",
            "conv1d_6 (Conv1D)            (None, 150, 32)           3104      \n",
            "_________________________________________________________________\n",
            "max_pooling1d_6 (MaxPooling1 (None, 75, 32)            0         \n",
            "_________________________________________________________________\n",
            "lstm_8 (LSTM)                (None, 100)               53200     \n",
            "_________________________________________________________________\n",
            "dense_7 (Dense)              (None, 1)                 101       \n",
            "=================================================================\n",
            "Total params: 88,405\n",
            "Trainable params: 88,405\n",
            "Non-trainable params: 0\n",
            "_________________________________________________________________\n"
          ],
          "name": "stdout"
        }
      ]
    },
    {
      "cell_type": "code",
      "metadata": {
        "id": "wc2tZUDR9tlx",
        "colab_type": "code",
        "outputId": "93997325-0acf-4f09-b26e-7959d793c013",
        "colab": {
          "base_uri": "https://localhost:8080/",
          "height": 51
        }
      },
      "source": [
        "print(X.shape)\n",
        "print(Y.shape)\n",
        "\n"
      ],
      "execution_count": 0,
      "outputs": [
        {
          "output_type": "stream",
          "text": [
            "(2727,)\n",
            "(2727,)\n"
          ],
          "name": "stdout"
        }
      ]
    },
    {
      "cell_type": "code",
      "metadata": {
        "id": "XpAvK1K799Le",
        "colab_type": "code",
        "outputId": "c2a5eb5a-8132-40fd-fbe6-a56713b33b3d",
        "colab": {
          "base_uri": "https://localhost:8080/",
          "height": 884
        }
      },
      "source": [
        "\n",
        "history = model.fit(sequences_matrix,y_train,batch_size=50,epochs=25,\n",
        "          validation_split=0.2)\n",
        "\n"
      ],
      "execution_count": 0,
      "outputs": [
        {
          "output_type": "stream",
          "text": [
            "Train on 1853 samples, validate on 464 samples\n",
            "Epoch 1/25\n",
            "1853/1853 [==============================] - 6s 3ms/step - loss: 0.6553 - acc: 0.6357 - val_loss: 0.6171 - val_acc: 0.6789\n",
            "Epoch 2/25\n",
            "1853/1853 [==============================] - 5s 3ms/step - loss: 0.5628 - acc: 0.6643 - val_loss: 0.4649 - val_acc: 0.8147\n",
            "Epoch 3/25\n",
            "1853/1853 [==============================] - 5s 3ms/step - loss: 0.3705 - acc: 0.8645 - val_loss: 0.3887 - val_acc: 0.8405\n",
            "Epoch 4/25\n",
            "1853/1853 [==============================] - 4s 2ms/step - loss: 0.2694 - acc: 0.9039 - val_loss: 0.3154 - val_acc: 0.8685\n",
            "Epoch 5/25\n",
            "1853/1853 [==============================] - 4s 2ms/step - loss: 0.1572 - acc: 0.9450 - val_loss: 0.2676 - val_acc: 0.9073\n",
            "Epoch 6/25\n",
            "1853/1853 [==============================] - 4s 2ms/step - loss: 0.0823 - acc: 0.9773 - val_loss: 0.2451 - val_acc: 0.9224\n",
            "Epoch 7/25\n",
            "1853/1853 [==============================] - 4s 2ms/step - loss: 0.0392 - acc: 0.9887 - val_loss: 0.2435 - val_acc: 0.9353\n",
            "Epoch 8/25\n",
            "1853/1853 [==============================] - 5s 3ms/step - loss: 0.0460 - acc: 0.9865 - val_loss: 0.2360 - val_acc: 0.9397\n",
            "Epoch 9/25\n",
            "1853/1853 [==============================] - 5s 3ms/step - loss: 0.0318 - acc: 0.9892 - val_loss: 0.2255 - val_acc: 0.9440\n",
            "Epoch 10/25\n",
            "1853/1853 [==============================] - 4s 2ms/step - loss: 0.0159 - acc: 0.9962 - val_loss: 0.2278 - val_acc: 0.9526\n",
            "Epoch 11/25\n",
            "1853/1853 [==============================] - 4s 2ms/step - loss: 0.0103 - acc: 0.9978 - val_loss: 0.2478 - val_acc: 0.9526\n",
            "Epoch 12/25\n",
            "1853/1853 [==============================] - 5s 2ms/step - loss: 0.0156 - acc: 0.9968 - val_loss: 0.2387 - val_acc: 0.9483\n",
            "Epoch 13/25\n",
            "1853/1853 [==============================] - 5s 2ms/step - loss: 0.0089 - acc: 0.9984 - val_loss: 0.3993 - val_acc: 0.9073\n",
            "Epoch 14/25\n",
            "1853/1853 [==============================] - 5s 3ms/step - loss: 0.0187 - acc: 0.9946 - val_loss: 0.2457 - val_acc: 0.9526\n",
            "Epoch 15/25\n",
            "1853/1853 [==============================] - 5s 3ms/step - loss: 0.0201 - acc: 0.9941 - val_loss: 0.2734 - val_acc: 0.9397\n",
            "Epoch 16/25\n",
            "1853/1853 [==============================] - 5s 3ms/step - loss: 0.0227 - acc: 0.9924 - val_loss: 0.2623 - val_acc: 0.9375\n",
            "Epoch 17/25\n",
            "1853/1853 [==============================] - 5s 3ms/step - loss: 0.0112 - acc: 0.9973 - val_loss: 0.2641 - val_acc: 0.9461\n",
            "Epoch 18/25\n",
            "1853/1853 [==============================] - 5s 3ms/step - loss: 0.0107 - acc: 0.9962 - val_loss: 0.2837 - val_acc: 0.9332\n",
            "Epoch 19/25\n",
            "1853/1853 [==============================] - 5s 2ms/step - loss: 0.0093 - acc: 0.9984 - val_loss: 0.3193 - val_acc: 0.9353\n",
            "Epoch 20/25\n",
            "1853/1853 [==============================] - 4s 2ms/step - loss: 0.0041 - acc: 0.9989 - val_loss: 0.3081 - val_acc: 0.9418\n",
            "Epoch 21/25\n",
            "1853/1853 [==============================] - 5s 3ms/step - loss: 0.0062 - acc: 0.9978 - val_loss: 0.3339 - val_acc: 0.9332\n",
            "Epoch 22/25\n",
            "1853/1853 [==============================] - 5s 2ms/step - loss: 0.0084 - acc: 0.9978 - val_loss: 0.2902 - val_acc: 0.9461\n",
            "Epoch 23/25\n",
            "1853/1853 [==============================] - 5s 2ms/step - loss: 0.0058 - acc: 0.9989 - val_loss: 0.3007 - val_acc: 0.9440\n",
            "Epoch 24/25\n",
            "1853/1853 [==============================] - 5s 2ms/step - loss: 0.0041 - acc: 0.9989 - val_loss: 0.3018 - val_acc: 0.9440\n",
            "Epoch 25/25\n",
            "1853/1853 [==============================] - 5s 3ms/step - loss: 0.0061 - acc: 0.9973 - val_loss: 0.2955 - val_acc: 0.9461\n"
          ],
          "name": "stdout"
        }
      ]
    },
    {
      "cell_type": "code",
      "metadata": {
        "id": "h4-9X8Xi-2HX",
        "colab_type": "code",
        "colab": {}
      },
      "source": [
        "test_sequences = tok.texts_to_sequences(x_test)\n",
        "test_sequences_matrix = sequence.pad_sequences(test_sequences,maxlen=max_len)"
      ],
      "execution_count": 0,
      "outputs": []
    },
    {
      "cell_type": "code",
      "metadata": {
        "id": "pE8NBpR4_G5E",
        "colab_type": "code",
        "outputId": "d085158d-c3cf-4801-a5ca-8e6b6855ea6c",
        "colab": {
          "base_uri": "https://localhost:8080/",
          "height": 34
        }
      },
      "source": [
        "accr = model.evaluate(test_sequences_matrix,y_test)"
      ],
      "execution_count": 0,
      "outputs": [
        {
          "output_type": "stream",
          "text": [
            "410/410 [==============================] - 0s 592us/step\n"
          ],
          "name": "stdout"
        }
      ]
    },
    {
      "cell_type": "code",
      "metadata": {
        "id": "BIbh2Rmo_NS2",
        "colab_type": "code",
        "outputId": "5cf08628-71ac-402f-b44a-df0f54b9b9d6",
        "colab": {
          "base_uri": "https://localhost:8080/",
          "height": 68
        }
      },
      "source": [
        "print('Test set\\n  Loss: {:0.3f}\\n  Accuracy: {:0.3f}'.format(accr[0],accr[1]))"
      ],
      "execution_count": 0,
      "outputs": [
        {
          "output_type": "stream",
          "text": [
            "Test set\n",
            "  Loss: 0.313\n",
            "  Accuracy: 0.944\n"
          ],
          "name": "stdout"
        }
      ]
    },
    {
      "cell_type": "code",
      "metadata": {
        "id": "FFm5Slbr_YHQ",
        "colab_type": "code",
        "outputId": "b297e1e7-192b-4972-a84b-f39925b03ec7",
        "colab": {
          "base_uri": "https://localhost:8080/",
          "height": 34
        }
      },
      "source": [
        "scores = model.evaluate(test_sequences_matrix,y_test)\n"
      ],
      "execution_count": 0,
      "outputs": [
        {
          "output_type": "stream",
          "text": [
            "410/410 [==============================] - 0s 582us/step\n"
          ],
          "name": "stdout"
        }
      ]
    },
    {
      "cell_type": "code",
      "metadata": {
        "id": "oU_ZAAJhAGkX",
        "colab_type": "code",
        "outputId": "189a3bfd-4a70-4f9a-eac7-356271b1a6a6",
        "colab": {
          "base_uri": "https://localhost:8080/",
          "height": 34
        }
      },
      "source": [
        "print(\"Accuracy: %.2f%%\" % (scores[1]*100))"
      ],
      "execution_count": 0,
      "outputs": [
        {
          "output_type": "stream",
          "text": [
            "Accuracy: 94.39%\n"
          ],
          "name": "stdout"
        }
      ]
    }
  ]
}